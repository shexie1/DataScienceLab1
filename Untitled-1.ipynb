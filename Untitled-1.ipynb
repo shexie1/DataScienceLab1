{
 "cells": [
  {
   "cell_type": "code",
   "execution_count": 8,
   "metadata": {},
   "outputs": [
    {
     "name": "stdout",
     "output_type": "stream",
     "text": [
      "Enter number of students: \n",
      "Enter student name: \n",
      "Enter student id: \n",
      "Enter student name: \n",
      "Enter student id: \n",
      "student number  0 name:  sherif\n",
      "student number  0 id:  4\n",
      "student number  1 name:  ahmed\n",
      "student number  1 id:  1\n"
     ]
    }
   ],
   "source": [
    "print(\"Enter number of students: \")\n",
    "n = int(input())\n",
    "names = []\n",
    "ids = []\n",
    "for i in range(n):\n",
    "    print(\"Enter student name: \")\n",
    "    names.append(input())\n",
    "    print(\"Enter student id: \")\n",
    "    x = int(input())\n",
    "    ids.append(x)\n",
    "\n",
    "for i in range(n):\n",
    "    print(\"student number \", i , \"name: \", names[i])\n",
    "    print(\"student number \", i , \"id: \", ids[i])\n",
    "    \n",
    "\n",
    "    "
   ]
  }
 ],
 "metadata": {
  "kernelspec": {
   "display_name": "Python 3",
   "language": "python",
   "name": "python3"
  },
  "language_info": {
   "codemirror_mode": {
    "name": "ipython",
    "version": 3
   },
   "file_extension": ".py",
   "mimetype": "text/x-python",
   "name": "python",
   "nbconvert_exporter": "python",
   "pygments_lexer": "ipython3",
   "version": "3.10.6"
  }
 },
 "nbformat": 4,
 "nbformat_minor": 2
}
